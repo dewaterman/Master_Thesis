{
  "cells": [
    {
      "cell_type": "markdown",
      "metadata": {
        "id": "AXHLDxJdRzBi"
      },
      "source": [
        "# **BERTopic - Tutorial**"
      ]
    },
    {
      "cell_type": "code",
      "execution_count": null,
      "metadata": {
        "id": "SNa-KtKDRnus"
      },
      "outputs": [],
      "source": [
        "!pip install bertopic"
      ]
    },
    {
      "cell_type": "markdown",
      "metadata": {
        "id": "Bm-iSjr9z6dF"
      },
      "source": [
        "# **Imports**"
      ]
    },
    {
      "cell_type": "code",
      "execution_count": null,
      "metadata": {
        "id": "Wd0uHueSz795"
      },
      "outputs": [],
      "source": [
        "import numpy as np\n",
        "import pandas as pd\n",
        "from copy import deepcopy\n",
        "from bertopic import BERTopic\n",
        "import re"
      ]
    },
    {
      "cell_type": "markdown",
      "metadata": {
        "id": "Y3VGFZ1USMTu"
      },
      "source": [
        "# **Load data**"
      ]
    },
    {
      "cell_type": "code",
      "execution_count": null,
      "metadata": {
        "id": "K1KDDUurzpgz"
      },
      "outputs": [],
      "source": [
        "df = pd.read_csv(\"Train_Dec.csv\")"
      ]
    },
    {
      "cell_type": "code",
      "execution_count": null,
      "metadata": {
        "id": "ITGyQkMQzrma"
      },
      "outputs": [],
      "source": [
        "df.head(3)"
      ]
    },
    {
      "cell_type": "code",
      "execution_count": null,
      "metadata": {
        "id": "aWpVGTexfT92"
      },
      "outputs": [],
      "source": [
        "df['text'] = df['text'].astype('str') "
      ]
    },
    {
      "cell_type": "code",
      "execution_count": null,
      "metadata": {
        "id": "25OoMVUnfT93"
      },
      "outputs": [],
      "source": [
        "def remove_pattern(input_txt, pattern):\n",
        "    r = re.findall(pattern, input_txt)\n",
        "    for i in r:\n",
        "        input_txt = re.sub(i, '', input_txt)        \n",
        "    return input_txt\n",
        "def clean_tweets(tweets):\n",
        "    #remove URL links (httpxxx)\n",
        "    tweets = np.vectorize(remove_pattern)(tweets, \"https?://[A-Za-z0-9./]*\")\n",
        "    return tweets"
      ]
    },
    {
      "cell_type": "code",
      "execution_count": null,
      "metadata": {
        "id": "tSEDEtGifT94"
      },
      "outputs": [],
      "source": [
        "df['text'] = clean_tweets(df['text'])\n",
        "df['text'].head()"
      ]
    },
    {
      "cell_type": "code",
      "execution_count": null,
      "metadata": {
        "id": "N_JdwlALzx46"
      },
      "outputs": [],
      "source": [
        "docs = list(df.loc[:, \"text\"].values)"
      ]
    },
    {
      "cell_type": "code",
      "execution_count": null,
      "metadata": {
        "id": "quJJRrNg0Z_g"
      },
      "outputs": [],
      "source": [
        "docs[:5]"
      ]
    },
    {
      "cell_type": "markdown",
      "metadata": {
        "id": "SBcNmZJzSTY8"
      },
      "source": [
        "# **Creating Topics**"
      ]
    },
    {
      "cell_type": "code",
      "execution_count": null,
      "metadata": {
        "id": "TfhfzqkoSJ1I"
      },
      "outputs": [],
      "source": [
        "model = BERTopic(language=\"english\", calculate_probabilities=False, verbose=True)"
      ]
    },
    {
      "cell_type": "code",
      "execution_count": null,
      "metadata": {
        "id": "QeWdmA68fT97"
      },
      "outputs": [],
      "source": [
        "np.where(df['text'].isnull())[0]"
      ]
    },
    {
      "cell_type": "code",
      "execution_count": null,
      "metadata": {
        "id": "NqdMzhTgqKfL"
      },
      "outputs": [],
      "source": [
        "topics, probs = model.fit_transform(docs)"
      ]
    },
    {
      "cell_type": "code",
      "execution_count": null,
      "metadata": {
        "id": "CYLI8VQOfT98"
      },
      "outputs": [],
      "source": [
        "model.save('Topic_model_Train_Dec')"
      ]
    },
    {
      "cell_type": "markdown",
      "metadata": {
        "id": "0ua80usww-rj"
      },
      "source": [
        "# We can then extract most frequent topics:"
      ]
    },
    {
      "cell_type": "code",
      "execution_count": null,
      "metadata": {
        "id": "nNptKBzHSbyS"
      },
      "outputs": [],
      "source": [
        "model.get_topic_freq()"
      ]
    },
    {
      "cell_type": "markdown",
      "metadata": {
        "id": "6zMjoIyB0pd9"
      },
      "source": [
        "# Get Individual Topics"
      ]
    },
    {
      "cell_type": "code",
      "execution_count": null,
      "metadata": {
        "id": "MPrGs6ys0mqt"
      },
      "outputs": [],
      "source": [
        "model.get_topic(0)"
      ]
    },
    {
      "cell_type": "code",
      "execution_count": null,
      "metadata": {
        "id": "UCw_q8I7Sb03"
      },
      "outputs": [],
      "source": [
        "model.get_topic(2)"
      ]
    },
    {
      "cell_type": "code",
      "execution_count": null,
      "metadata": {
        "id": "D6u335JDzDSr"
      },
      "outputs": [],
      "source": [
        "model.get_topic(14)"
      ]
    },
    {
      "cell_type": "markdown",
      "metadata": {
        "id": "M8c8LenB8Zyl"
      },
      "source": [
        "# **Visualize Topics**"
      ]
    },
    {
      "cell_type": "code",
      "execution_count": null,
      "metadata": {
        "id": "AQKBcla28bY0"
      },
      "outputs": [],
      "source": [
        "model.visualize_topics(top_n_topics=20)"
      ]
    },
    {
      "cell_type": "code",
      "execution_count": null,
      "metadata": {
        "id": "LGqIYmyx1xQi"
      },
      "outputs": [],
      "source": [
        "model.visualize_barchart(top_n_topics=20)"
      ]
    },
    {
      "cell_type": "code",
      "execution_count": null,
      "metadata": {
        "id": "DKbzll0bfT-A"
      },
      "outputs": [],
      "source": [
        "dftopic = pd.DataFrame(model.get_topics())\n",
        "dftopic.to_csv('All_Topics_Train_Dec.csv')"
      ]
    },
    {
      "cell_type": "code",
      "execution_count": null,
      "metadata": {
        "id": "i0xQEPLofT-B"
      },
      "outputs": [],
      "source": [
        "model.visualize_topics()"
      ]
    },
    {
      "cell_type": "code",
      "execution_count": null,
      "metadata": {
        "id": "oetj31jxfT-B"
      },
      "outputs": [],
      "source": [
        "model.visualize_hierarchy(top_n_topics=20)"
      ]
    },
    {
      "cell_type": "code",
      "execution_count": null,
      "metadata": {
        "id": "uS6bCWJqfT-C"
      },
      "outputs": [],
      "source": [
        ""
      ]
    }
  ],
  "metadata": {
    "accelerator": "GPU",
    "colab": {
      "collapsed_sections": [],
      "name": "BERT-Topic-Modelling DEC.ipynb",
      "provenance": []
    },
    "kernelspec": {
      "display_name": "Python 3 (ipykernel)",
      "language": "python",
      "name": "python3"
    },
    "language_info": {
      "codemirror_mode": {
        "name": "ipython",
        "version": 3
      },
      "file_extension": ".py",
      "mimetype": "text/x-python",
      "name": "python",
      "nbconvert_exporter": "python",
      "pygments_lexer": "ipython3",
      "version": "3.8.0"
    }
  },
  "nbformat": 4,
  "nbformat_minor": 0
}